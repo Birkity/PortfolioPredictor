{
 "cells": [
  {
   "cell_type": "markdown",
   "metadata": {},
   "source": [
    "### Task 2"
   ]
  },
  {
   "cell_type": "code",
   "execution_count": 11,
   "metadata": {},
   "outputs": [],
   "source": [
    "import logging\n",
    "import pandas as pd\n",
    "import os\n",
    "import sys\n",
    "\n",
    "sys.path.append(os.path.abspath('../scripts'))\n",
    "\n",
    "from forecasting.arima_model import train_arima\n",
    "from forecasting.sarima_model import train_sarima\n",
    "from forecasting.lstm_model import preprocess_data, build_lstm, train_lstm\n",
    "from forecasting.evaluation_metrics import evaluate_forecast\n",
    "from utils.mlflow_utils import (\n",
    "    start_mlflow_experiment, log_params, log_metrics, log_model, end_mlflow_experiment\n",
    ")\n",
    "import matplotlib.pyplot as plt"
   ]
  },
  {
   "cell_type": "code",
   "execution_count": 14,
   "metadata": {},
   "outputs": [
    {
     "name": "stderr",
     "output_type": "stream",
     "text": [
      "2024-11-17 14:30:58,543 - INFO - Logger initialized. Log file: logs\\task2_mlflow_forecasting.log\n"
     ]
    }
   ],
   "source": [
    "from utils.logging_config import setup_logger\n",
    "setup_logger(log_file=\"task2_mlflow_forecasting.log\", log_level=logging.INFO)"
   ]
  },
  {
   "cell_type": "code",
   "execution_count": 15,
   "metadata": {},
   "outputs": [
    {
     "name": "stderr",
     "output_type": "stream",
     "text": [
      "2024-11-17 14:31:12,986 - INFO - Task 2: Forecasting Pipeline with Multiple Datasets Started.\n"
     ]
    }
   ],
   "source": [
    "logging.info(\"Task 2: Forecasting Pipeline with Multiple Datasets Started.\")"
   ]
  },
  {
   "cell_type": "code",
   "execution_count": 16,
   "metadata": {},
   "outputs": [],
   "source": [
    "datasets = {\n",
    "    \"TSLA\": pd.read_csv(\"../data/processed/TSLA_processed.csv\", parse_dates=[\"Date\"], index_col=\"Date\"),\n",
    "    \"SPY\": pd.read_csv(\"../data/processed/SPY_processed.csv\", parse_dates=[\"Date\"], index_col=\"Date\"),\n",
    "    \"BND\": pd.read_csv(\"../data/processed/BND_processed.csv\", parse_dates=[\"Date\"], index_col=\"Date\"),\n",
    "}\n"
   ]
  }
 ],
 "metadata": {
  "kernelspec": {
   "display_name": "myenv",
   "language": "python",
   "name": "python3"
  },
  "language_info": {
   "codemirror_mode": {
    "name": "ipython",
    "version": 3
   },
   "file_extension": ".py",
   "mimetype": "text/x-python",
   "name": "python",
   "nbconvert_exporter": "python",
   "pygments_lexer": "ipython3",
   "version": "3.11.2"
  }
 },
 "nbformat": 4,
 "nbformat_minor": 2
}
