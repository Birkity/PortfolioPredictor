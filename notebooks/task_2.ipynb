{
 "cells": [
  {
   "cell_type": "markdown",
   "metadata": {},
   "source": [
    "Task 2: Develop Time Series Forecasting Models for All Datasets"
   ]
  },
  {
   "cell_type": "code",
   "execution_count": 6,
   "metadata": {},
   "outputs": [],
   "source": [
    "import pandas as pd\n",
    "import itertools\n",
    "from statsmodels.tsa.arima.model import ARIMA\n",
    "from statsmodels.tsa.statespace.sarimax import SARIMAX\n",
    "from sklearn.metrics import mean_absolute_error, mean_squared_error\n",
    "import numpy as np\n",
    "import matplotlib.pyplot as plt\n",
    "\n",
    "datasets = {\n",
    "    'TSLA': pd.read_csv('../data/TSLA_handler_update.csv', parse_dates=['Date'], index_col='Date'),\n",
    "    'BND': pd.read_csv('../data/BND_handler_update.csv', parse_dates=['Date'], index_col='Date'),\n",
    "    'SPY': pd.read_csv('../data/SPY_handler_update.csv', parse_dates=['Date'], index_col='Date')\n",
    "}"
   ]
  },
  {
   "cell_type": "code",
   "execution_count": 7,
   "metadata": {},
   "outputs": [],
   "source": [
    "train_size_ratio = 0.8\n",
    "for name, df in datasets.items():\n",
    "    train_size = int(len(df) * train_size_ratio)\n",
    "    train, test = df[:train_size], df[train_size:]"
   ]
  },
  {
   "cell_type": "markdown",
   "metadata": {},
   "source": [
    "### ARIMA Model"
   ]
  },
  {
   "cell_type": "code",
   "execution_count": 10,
   "metadata": {},
   "outputs": [
    {
     "name": "stdout",
     "output_type": "stream",
     "text": [
      "TSLA - ARIMA - MAE: 55.40882176163719, RMSE: 73.95427027085168, MAPE: nan%\n",
      "BND - ARIMA - MAE: 2.2008995531770585, RMSE: 2.5375704873241, MAPE: nan%\n",
      "SPY - ARIMA - MAE: 25.368042064700624, RMSE: 30.42663058773151, MAPE: nan%\n"
     ]
    }
   ],
   "source": [
    "from itertools import product\n",
    "import warnings\n",
    "warnings.filterwarnings(\"ignore\")\n",
    "\n",
    "pdq = list(itertools.product(range(0, 3), range(0, 3), range(0, 3))) \n",
    "\n",
    "for name, df in datasets.items():\n",
    "\n",
    "    train, test = df[:train_size], df[train_size:]\n",
    "    \n",
    "    best_score, best_params = float(\"inf\"), None\n",
    "    for param in pdq:\n",
    "        try:\n",
    "            model = ARIMA(train['Close'], order=param)\n",
    "            model_fit = model.fit()\n",
    "            predictions = model_fit.forecast(steps=len(test))\n",
    "            score = mean_absolute_error(test['Close'], predictions)\n",
    "            if score < best_score:\n",
    "                best_score, best_params = score, param\n",
    "        except:\n",
    "            continue\n",
    "    \n",
    "    \n",
    "\n",
    "    best_model = ARIMA(train['Close'], order=best_params)\n",
    "    best_model_fit = best_model.fit()\n",
    "    \n",
    "\n",
    "    predictions = best_model_fit.forecast(steps=len(test))\n",
    "    mae = mean_absolute_error(test['Close'], predictions)\n",
    "    rmse = mean_squared_error(test['Close'], predictions, squared=False)\n",
    "    mape = (np.abs((test['Close'] - predictions) / test['Close']).mean()) * 100\n",
    "    \n",
    "    print(f\"{name} - ARIMA - MAE: {mae}, RMSE: {rmse}, MAPE: {mape}%\")\n"
   ]
  },
  {
   "cell_type": "code",
   "execution_count": null,
   "metadata": {},
   "outputs": [],
   "source": []
  }
 ],
 "metadata": {
  "kernelspec": {
   "display_name": "myenv",
   "language": "python",
   "name": "python3"
  },
  "language_info": {
   "codemirror_mode": {
    "name": "ipython",
    "version": 3
   },
   "file_extension": ".py",
   "mimetype": "text/x-python",
   "name": "python",
   "nbconvert_exporter": "python",
   "pygments_lexer": "ipython3",
   "version": "3.11.2"
  }
 },
 "nbformat": 4,
 "nbformat_minor": 2
}
