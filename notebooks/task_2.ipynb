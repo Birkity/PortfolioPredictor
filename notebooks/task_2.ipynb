{
 "cells": [
  {
   "cell_type": "markdown",
   "metadata": {},
   "source": [
    "Task 2: Develop Time Series Forecasting Models for All Datasets"
   ]
  },
  {
   "cell_type": "code",
   "execution_count": 18,
   "metadata": {},
   "outputs": [],
   "source": [
    "import pandas as pd\n",
    "import itertools\n",
    "from statsmodels.tsa.arima.model import ARIMA\n",
    "from statsmodels.tsa.statespace.sarimax import SARIMAX\n",
    "from sklearn.metrics import mean_absolute_error, mean_squared_error\n",
    "import numpy as np\n",
    "import matplotlib.pyplot as plt\n",
    "\n",
    "datasets = {\n",
    "    'TSLA': pd.read_csv('../data/TSLA_handler_update.csv', parse_dates=['Date'], index_col='Date'),\n",
    "    'BND': pd.read_csv('../data/BND_handler_update.csv', parse_dates=['Date'], index_col='Date'),\n",
    "    'SPY': pd.read_csv('../data/SPY_handler_update.csv', parse_dates=['Date'], index_col='Date')\n",
    "}"
   ]
  },
  {
   "cell_type": "code",
   "execution_count": 19,
   "metadata": {},
   "outputs": [],
   "source": [
    "train_size_ratio = 0.8\n",
    "for name, df in datasets.items():\n",
    "    train_size = int(len(df) * train_size_ratio)\n",
    "    train, test = df[:train_size], df[train_size:]"
   ]
  }
 ],
 "metadata": {
  "kernelspec": {
   "display_name": "myenv",
   "language": "python",
   "name": "python3"
  },
  "language_info": {
   "codemirror_mode": {
    "name": "ipython",
    "version": 3
   },
   "file_extension": ".py",
   "mimetype": "text/x-python",
   "name": "python",
   "nbconvert_exporter": "python",
   "pygments_lexer": "ipython3",
   "version": "3.11.2"
  }
 },
 "nbformat": 4,
 "nbformat_minor": 2
}
