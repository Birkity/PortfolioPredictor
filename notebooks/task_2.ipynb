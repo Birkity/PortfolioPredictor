{
 "cells": [
  {
   "cell_type": "markdown",
   "metadata": {},
   "source": [
    "Task 2: Develop Time Series Forecasting Models for All Datasets"
   ]
  },
  {
   "cell_type": "code",
   "execution_count": 7,
   "metadata": {},
   "outputs": [],
   "source": [
    "import pandas as pd\n",
    "from statsmodels.tsa.arima.model import ARIMA\n",
    "from sklearn.metrics import mean_absolute_error, mean_squared_error\n",
    "import numpy as np\n",
    "\n",
    "TSLA_handler = pd.read_csv('../data/TSLA_handler_update.csv', parse_dates=['Date'], index_col='Date')\n",
    "BND_handler = pd.read_csv('../data/BND_handler_update.csv', parse_dates=['Date'], index_col='Date')\n",
    "SPY_handler = pd.read_csv('../data/SPY_handler_update.csv', parse_dates=['Date'], index_col='Date')\n"
   ]
  }
 ],
 "metadata": {
  "kernelspec": {
   "display_name": "myenv",
   "language": "python",
   "name": "python3"
  },
  "language_info": {
   "codemirror_mode": {
    "name": "ipython",
    "version": 3
   },
   "file_extension": ".py",
   "mimetype": "text/x-python",
   "name": "python",
   "nbconvert_exporter": "python",
   "pygments_lexer": "ipython3",
   "version": "3.11.2"
  }
 },
 "nbformat": 4,
 "nbformat_minor": 2
}
