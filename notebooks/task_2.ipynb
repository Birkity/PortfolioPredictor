{
 "cells": [
  {
   "cell_type": "markdown",
   "metadata": {},
   "source": [
    "Task 2: Develop Time Series Forecasting Models for All Datasets"
   ]
  },
  {
   "cell_type": "code",
   "execution_count": 7,
   "metadata": {},
   "outputs": [],
   "source": [
    "import pandas as pd\n",
    "from statsmodels.tsa.arima.model import ARIMA\n",
    "from sklearn.metrics import mean_absolute_error, mean_squared_error\n",
    "import numpy as np\n",
    "\n",
    "TSLA_handler = pd.read_csv('../data/TSLA_handler_update.csv', parse_dates=['Date'], index_col='Date')\n",
    "BND_handler = pd.read_csv('../data/BND_handler_update.csv', parse_dates=['Date'], index_col='Date')\n",
    "SPY_handler = pd.read_csv('../data/SPY_handler_update.csv', parse_dates=['Date'], index_col='Date')\n"
   ]
  },
  {
   "cell_type": "code",
   "execution_count": 8,
   "metadata": {},
   "outputs": [],
   "source": [
    "def fit_arima(data, order):\n",
    "    model = ARIMA(data, order=order)\n",
    "    model_fit = model.fit()\n",
    "    return model_fit"
   ]
  },
  {
   "cell_type": "code",
   "execution_count": 9,
   "metadata": {},
   "outputs": [],
   "source": [
    "def evaluate_model(model_fit, data):\n",
    "    predictions = model_fit.predict(start=data.index[0], end=data.index[-1])\n",
    "    mae = mean_absolute_error(data, predictions)\n",
    "    rmse = np.sqrt(mean_squared_error(data, predictions))\n",
    "    return predictions, mae, rmse"
   ]
  },
  {
   "cell_type": "code",
   "execution_count": 10,
   "metadata": {},
   "outputs": [],
   "source": [
    "arima_order = (1, 1, 1)  "
   ]
  },
  {
   "cell_type": "code",
   "execution_count": 11,
   "metadata": {},
   "outputs": [],
   "source": [
    "datasets = {'TSLA': TSLA_handler, 'BND': BND_handler, 'SPY': SPY_handler}\n",
    "results = {}"
   ]
  }
 ],
 "metadata": {
  "kernelspec": {
   "display_name": "myenv",
   "language": "python",
   "name": "python3"
  },
  "language_info": {
   "codemirror_mode": {
    "name": "ipython",
    "version": 3
   },
   "file_extension": ".py",
   "mimetype": "text/x-python",
   "name": "python",
   "nbconvert_exporter": "python",
   "pygments_lexer": "ipython3",
   "version": "3.11.2"
  }
 },
 "nbformat": 4,
 "nbformat_minor": 2
}
