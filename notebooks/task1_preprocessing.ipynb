{
 "cells": [
  {
   "cell_type": "markdown",
   "metadata": {},
   "source": [
    "### Load data"
   ]
  },
  {
   "cell_type": "code",
   "execution_count": 62,
   "metadata": {},
   "outputs": [],
   "source": [
    "import sys\n",
    "import os\n",
    "sys.path.append(os.path.abspath('../scripts'))"
   ]
  },
  {
   "cell_type": "code",
   "execution_count": 64,
   "metadata": {},
   "outputs": [
    {
     "name": "stderr",
     "output_type": "stream",
     "text": [
      "2024-11-15 20:06:04,492 - INFO - Logger initialized. Log file: logs\\task1_pipeline.log\n",
      "2024-11-15 20:06:04,493 - INFO - Notebook execution started.\n"
     ]
    }
   ],
   "source": [
    "import logging\n",
    "from logging_config import setup_logger\n",
    "\n",
    "setup_logger(log_file=\"task1_pipeline.log\", log_level=logging.DEBUG)\n",
    "\n",
    "logging.info(\"Notebook execution started.\")"
   ]
  },
  {
   "cell_type": "code",
   "execution_count": 65,
   "metadata": {},
   "outputs": [],
   "source": [
    "from data_loader import load_data"
   ]
  },
  {
   "cell_type": "code",
   "execution_count": 66,
   "metadata": {},
   "outputs": [],
   "source": [
    "data_tsla = load_data('../data/raw/TSLA_data.csv')"
   ]
  },
  {
   "cell_type": "code",
   "execution_count": 67,
   "metadata": {},
   "outputs": [],
   "source": [
    "data_spy = load_data('../data/raw/SPY_data.csv')"
   ]
  },
  {
   "cell_type": "code",
   "execution_count": 68,
   "metadata": {},
   "outputs": [],
   "source": [
    "data_bnd = load_data('../data/raw/BND_data.csv')"
   ]
  },
  {
   "cell_type": "markdown",
   "metadata": {},
   "source": [
    "### Clean Data"
   ]
  },
  {
   "cell_type": "code",
   "execution_count": null,
   "metadata": {},
   "outputs": [],
   "source": [
    "import pandas as pd \n",
    "data_tsla = pd.DataFrame()  \n",
    "data_spy = pd.DataFrame()\n",
    "data_bnd = pd.DataFrame()\n",
    "\n",
    "datasets = {\n",
    "    \"TSLA\": data_tsla,\n",
    "    \"SPY\": data_spy,\n",
    "    \"BND\": data_bnd\n",
    "\n",
    "}"
   ]
  },
  {
   "cell_type": "code",
   "execution_count": 71,
   "metadata": {},
   "outputs": [
    {
     "name": "stderr",
     "output_type": "stream",
     "text": [
      "2024-11-15 20:14:27,305 - INFO - Cleaning dataset: TSLA\n",
      "2024-11-15 20:14:27,306 - INFO - Starting data cleaning.\n",
      "2024-11-15 20:14:27,307 - INFO - Initial data shape: (0, 0)\n",
      "2024-11-15 20:14:27,352 - INFO - Final data shape: (0, 0)\n",
      "2024-11-15 20:14:27,354 - INFO - Data cleaning completed.\n",
      "2024-11-15 20:14:27,356 - INFO - Cleaning dataset: SPY\n",
      "2024-11-15 20:14:27,357 - INFO - Starting data cleaning.\n",
      "2024-11-15 20:14:27,358 - INFO - Initial data shape: (0, 0)\n",
      "2024-11-15 20:14:27,388 - INFO - Final data shape: (0, 0)\n",
      "2024-11-15 20:14:27,388 - INFO - Data cleaning completed.\n",
      "2024-11-15 20:14:27,388 - INFO - Cleaning dataset: BND\n",
      "2024-11-15 20:14:27,388 - INFO - Starting data cleaning.\n",
      "2024-11-15 20:14:27,388 - INFO - Initial data shape: (0, 0)\n",
      "2024-11-15 20:14:27,388 - INFO - Final data shape: (0, 0)\n",
      "2024-11-15 20:14:27,403 - INFO - Data cleaning completed.\n"
     ]
    }
   ],
   "source": [
    "from data_cleaning import clean_multiple_datasets\n",
    "cleaned_datasets = clean_multiple_datasets(datasets)\n",
    "\n",
    "\n",
    "cleaned_tsla = cleaned_datasets[\"TSLA\"]\n",
    "cleaned_spy = cleaned_datasets[\"SPY\"]\n",
    "cleaned_bnd = cleaned_datasets[\"BND\"]"
   ]
  },
  {
   "cell_type": "code",
   "execution_count": null,
   "metadata": {},
   "outputs": [],
   "source": []
  }
 ],
 "metadata": {
  "kernelspec": {
   "display_name": "myenv",
   "language": "python",
   "name": "python3"
  },
  "language_info": {
   "codemirror_mode": {
    "name": "ipython",
    "version": 3
   },
   "file_extension": ".py",
   "mimetype": "text/x-python",
   "name": "python",
   "nbconvert_exporter": "python",
   "pygments_lexer": "ipython3",
   "version": "3.11.2"
  }
 },
 "nbformat": 4,
 "nbformat_minor": 2
}
