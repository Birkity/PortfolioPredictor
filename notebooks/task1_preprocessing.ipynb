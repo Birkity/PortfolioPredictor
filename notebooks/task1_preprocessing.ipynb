{
 "cells": [
  {
   "cell_type": "markdown",
   "metadata": {},
   "source": [
    "### Load data"
   ]
  },
  {
   "cell_type": "code",
   "execution_count": 77,
   "metadata": {},
   "outputs": [],
   "source": [
    "import sys\n",
    "import os\n",
    "import logging\n",
    "sys.path.append(os.path.abspath('../scripts'))\n",
    "\n",
    "from logging_config import setup_logger\n",
    "from data_loader import load_data\n",
    "from data_cleaning import clean_multiple_datasets\n",
    "from eda import perform_eda\n",
    "from visualization import plot_column"
   ]
  },
  {
   "cell_type": "code",
   "execution_count": 78,
   "metadata": {},
   "outputs": [
    {
     "name": "stderr",
     "output_type": "stream",
     "text": [
      "2024-11-15 21:02:17,022 - INFO - Logger initialized. Log file: logs\\task1_pipeline.log\n"
     ]
    }
   ],
   "source": [
    "setup_logger(log_file=\"task1_pipeline.log\", log_level=logging.DEBUG)"
   ]
  },
  {
   "cell_type": "code",
   "execution_count": 79,
   "metadata": {},
   "outputs": [
    {
     "name": "stderr",
     "output_type": "stream",
     "text": [
      "2024-11-15 21:02:17,348 - INFO - Loading datasets.\n"
     ]
    }
   ],
   "source": [
    "logging.info(\"Loading datasets.\")\n",
    "data_tsla = load_data('../data/raw/TSLA_data.csv')\n",
    "data_spy = load_data('../data/raw/SPY_data.csv')\n",
    "data_bnd = load_data('../data/raw/BND_data.csv')"
   ]
  },
  {
   "cell_type": "code",
   "execution_count": 80,
   "metadata": {},
   "outputs": [],
   "source": [
    "datasets = {\"TSLA\": data_tsla, \"SPY\": data_spy, \"BND\": data_bnd}"
   ]
  },
  {
   "cell_type": "markdown",
   "metadata": {},
   "source": [
    "### Clean Data"
   ]
  },
  {
   "cell_type": "code",
   "execution_count": 81,
   "metadata": {},
   "outputs": [
    {
     "name": "stderr",
     "output_type": "stream",
     "text": [
      "2024-11-15 21:02:17,910 - INFO - Cleaning datasets.\n",
      "2024-11-15 21:02:17,914 - INFO - Cleaning dataset: TSLA\n",
      "2024-11-15 21:02:17,917 - INFO - Starting data cleaning.\n",
      "2024-11-15 21:02:17,936 - INFO - Initial data shape: (2014, 6)\n",
      "2024-11-15 21:02:17,943 - INFO - Ensured numeric type for column: Open\n",
      "2024-11-15 21:02:17,946 - INFO - Ensured numeric type for column: High\n",
      "2024-11-15 21:02:17,946 - INFO - Ensured numeric type for column: Low\n",
      "2024-11-15 21:02:17,949 - INFO - Ensured numeric type for column: Close\n",
      "2024-11-15 21:02:17,951 - INFO - Ensured numeric type for column: Adj Close\n",
      "2024-11-15 21:02:17,954 - INFO - Ensured numeric type for column: Volume\n",
      "2024-11-15 21:02:17,954 - INFO - Final data shape: (2014, 6)\n",
      "2024-11-15 21:02:17,954 - INFO - Data cleaning completed.\n",
      "2024-11-15 21:02:17,958 - INFO - Cleaning dataset: SPY\n",
      "2024-11-15 21:02:17,958 - INFO - Starting data cleaning.\n",
      "2024-11-15 21:02:17,958 - INFO - Initial data shape: (2014, 6)\n",
      "2024-11-15 21:02:17,958 - INFO - Ensured numeric type for column: Open\n",
      "2024-11-15 21:02:17,966 - INFO - Ensured numeric type for column: High\n",
      "2024-11-15 21:02:17,969 - INFO - Ensured numeric type for column: Low\n",
      "2024-11-15 21:02:17,972 - INFO - Ensured numeric type for column: Close\n",
      "2024-11-15 21:02:17,972 - INFO - Ensured numeric type for column: Adj Close\n",
      "2024-11-15 21:02:17,972 - INFO - Ensured numeric type for column: Volume\n",
      "2024-11-15 21:02:17,972 - INFO - Final data shape: (2014, 6)\n",
      "2024-11-15 21:02:17,972 - INFO - Data cleaning completed.\n",
      "2024-11-15 21:02:17,972 - INFO - Cleaning dataset: BND\n",
      "2024-11-15 21:02:17,972 - INFO - Starting data cleaning.\n",
      "2024-11-15 21:02:17,972 - INFO - Initial data shape: (2014, 6)\n",
      "2024-11-15 21:02:17,982 - INFO - Ensured numeric type for column: Open\n",
      "2024-11-15 21:02:17,985 - INFO - Ensured numeric type for column: High\n",
      "2024-11-15 21:02:17,987 - INFO - Ensured numeric type for column: Low\n",
      "2024-11-15 21:02:17,987 - INFO - Ensured numeric type for column: Close\n",
      "2024-11-15 21:02:17,991 - INFO - Ensured numeric type for column: Adj Close\n",
      "2024-11-15 21:02:17,993 - INFO - Ensured numeric type for column: Volume\n",
      "2024-11-15 21:02:17,993 - INFO - Final data shape: (2014, 6)\n",
      "2024-11-15 21:02:17,995 - INFO - Data cleaning completed.\n"
     ]
    }
   ],
   "source": [
    "logging.info(\"Cleaning datasets.\")\n",
    "cleaned_datasets = clean_multiple_datasets(datasets)"
   ]
  },
  {
   "cell_type": "markdown",
   "metadata": {},
   "source": [
    "### EDA"
   ]
  },
  {
   "cell_type": "code",
   "execution_count": 82,
   "metadata": {},
   "outputs": [
    {
     "name": "stderr",
     "output_type": "stream",
     "text": [
      "2024-11-15 21:02:29,722 - INFO - Performing EDA on TSLA.\n",
      "2024-11-15 21:02:29,722 - INFO - Performing EDA for dataset: TSLA\n",
      "2024-11-15 21:02:30,478 - INFO - Summary statistics:\n",
      "              Open         High  ...    Adj Close        Volume\n",
      "count  2014.000000  2014.000000  ...  2014.000000  2.014000e+03\n",
      "mean     88.743650    90.735609  ...    88.662189  1.113914e+08\n",
      "std     108.718116   111.222595  ...   108.557913  8.025481e+07\n",
      "min       9.488000    10.331333  ...     9.578000  1.062000e+07\n",
      "25%      16.224167    16.458333  ...    16.217167  6.335325e+07\n",
      "50%      21.819667    22.206667  ...    21.881333  8.762100e+07\n",
      "75%     183.808338   186.592499  ...   182.904999  1.275895e+08\n",
      "max     411.470001   414.496674  ...   409.970001  9.140820e+08\n",
      "\n",
      "[8 rows x 6 columns]\n",
      "2024-11-15 21:02:31,001 - INFO - Correlation matrix:\n",
      "               Open      High       Low     Close  Adj Close    Volume\n",
      "Open       1.000000  0.999674  0.999516  0.999037   0.999037 -0.101789\n",
      "High       0.999674  1.000000  0.999531  0.999561   0.999561 -0.097010\n",
      "Low        0.999516  0.999531  1.000000  0.999614   0.999614 -0.106888\n",
      "Close      0.999037  0.999561  0.999614  1.000000   1.000000 -0.100995\n",
      "Adj Close  0.999037  0.999561  0.999614  1.000000   1.000000 -0.100995\n",
      "Volume    -0.101789 -0.097010 -0.106888 -0.100995  -0.100995  1.000000\n",
      "2024-11-15 21:02:31,112 - INFO - Outliers identified: 42\n",
      "2024-11-15 21:02:31,112 - INFO - Performing EDA on SPY.\n",
      "2024-11-15 21:02:31,112 - INFO - Performing EDA for dataset: SPY\n",
      "2024-11-15 21:02:31,135 - INFO - Summary statistics:\n",
      "              Open         High  ...    Adj Close        Volume\n",
      "count  2014.000000  2014.000000  ...  2014.000000  2.014000e+03\n",
      "mean    297.732294   299.417815  ...   273.957763  9.187613e+07\n",
      "std      80.871703    81.471799  ...    85.302952  4.765484e+07\n",
      "min     182.339996   184.100006  ...   157.328537  2.027000e+07\n",
      "25%     226.322498   226.757500  ...   198.774570  6.037552e+07\n",
      "50%     279.395004   280.580002  ...   254.202118  7.905045e+07\n",
      "75%     367.944992   370.119995  ...   349.701157  1.080564e+08\n",
      "max     479.220001   479.980011  ...   458.720306  5.072443e+08\n",
      "\n",
      "[8 rows x 6 columns]\n",
      "2024-11-15 21:02:31,152 - INFO - Correlation matrix:\n",
      "               Open      High       Low     Close  Adj Close    Volume\n",
      "Open       1.000000  0.999738  0.999656  0.999422   0.998759 -0.231471\n",
      "High       0.999738  1.000000  0.999424  0.999624   0.999260 -0.221382\n",
      "Low        0.999656  0.999424  1.000000  0.999671   0.998675 -0.246012\n",
      "Close      0.999422  0.999624  0.999671  1.000000   0.999286 -0.235608\n",
      "Adj Close  0.998759  0.999260  0.998675  0.999286   1.000000 -0.226777\n",
      "Volume    -0.231471 -0.221382 -0.246012 -0.235608  -0.226777  1.000000\n",
      "2024-11-15 21:02:31,169 - INFO - Outliers identified: 42\n",
      "2024-11-15 21:02:31,169 - INFO - Performing EDA on BND.\n",
      "2024-11-15 21:02:31,169 - INFO - Performing EDA for dataset: BND\n",
      "2024-11-15 21:02:31,176 - INFO - Summary statistics:\n",
      "              Open         High  ...    Adj Close        Volume\n",
      "count  2014.000000  2014.000000  ...  2014.000000  2.014000e+03\n",
      "mean     82.119682    82.225814  ...    70.047950  3.705960e+06\n",
      "std       3.744186     3.726866  ...     5.329671  2.488405e+06\n",
      "min      69.139999    69.580002  ...    62.637558  0.000000e+00\n",
      "25%      80.447502    80.532499  ...    65.995964  1.843650e+06\n",
      "50%      82.035000    82.139999  ...    67.568302  2.905900e+06\n",
      "75%      84.570000    84.709999  ...    75.097788  5.016900e+06\n",
      "max      89.550003    89.589996  ...    79.812950  2.479270e+07\n",
      "\n",
      "[8 rows x 6 columns]\n",
      "2024-11-15 21:02:31,192 - INFO - Correlation matrix:\n",
      "               Open      High       Low     Close  Adj Close    Volume\n",
      "Open       1.000000  0.998967  0.998603  0.998417   0.603090 -0.033129\n",
      "High       0.998967  1.000000  0.997215  0.999014   0.607769 -0.019434\n",
      "Low        0.998603  0.997215  1.000000  0.998675   0.599090 -0.048537\n",
      "Close      0.998417  0.999014  0.998675  1.000000   0.604387 -0.034605\n",
      "Adj Close  0.603090  0.607769  0.599090  0.604387   1.000000  0.508142\n",
      "Volume    -0.033129 -0.019434 -0.048537 -0.034605   0.508142  1.000000\n",
      "2024-11-15 21:02:31,217 - INFO - Outliers identified: 42\n"
     ]
    }
   ],
   "source": [
    "for name, data in cleaned_datasets.items():\n",
    "    logging.info(\"Performing EDA on %s.\", name)\n",
    "    perform_eda(data, name)"
   ]
  }
 ],
 "metadata": {
  "kernelspec": {
   "display_name": "myenv",
   "language": "python",
   "name": "python3"
  },
  "language_info": {
   "codemirror_mode": {
    "name": "ipython",
    "version": 3
   },
   "file_extension": ".py",
   "mimetype": "text/x-python",
   "name": "python",
   "nbconvert_exporter": "python",
   "pygments_lexer": "ipython3",
   "version": "3.11.2"
  }
 },
 "nbformat": 4,
 "nbformat_minor": 2
}
