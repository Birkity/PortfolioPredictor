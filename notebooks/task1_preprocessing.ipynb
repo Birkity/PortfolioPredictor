{
 "cells": [
  {
   "cell_type": "markdown",
   "metadata": {},
   "source": [
    "### Load data"
   ]
  },
  {
   "cell_type": "code",
   "execution_count": 62,
   "metadata": {},
   "outputs": [],
   "source": [
    "import sys\n",
    "import os\n",
    "sys.path.append(os.path.abspath('../scripts'))"
   ]
  },
  {
   "cell_type": "code",
   "execution_count": 64,
   "metadata": {},
   "outputs": [
    {
     "name": "stderr",
     "output_type": "stream",
     "text": [
      "2024-11-15 20:06:04,492 - INFO - Logger initialized. Log file: logs\\task1_pipeline.log\n",
      "2024-11-15 20:06:04,493 - INFO - Notebook execution started.\n"
     ]
    }
   ],
   "source": [
    "import logging\n",
    "from logging_config import setup_logger\n",
    "\n",
    "setup_logger(log_file=\"task1_pipeline.log\", log_level=logging.DEBUG)\n",
    "\n",
    "logging.info(\"Notebook execution started.\")"
   ]
  },
  {
   "cell_type": "code",
   "execution_count": 65,
   "metadata": {},
   "outputs": [],
   "source": [
    "from data_loader import load_data"
   ]
  },
  {
   "cell_type": "code",
   "execution_count": 66,
   "metadata": {},
   "outputs": [],
   "source": [
    "data_tsla = load_data('../data/raw/TSLA_data.csv')"
   ]
  },
  {
   "cell_type": "code",
   "execution_count": 67,
   "metadata": {},
   "outputs": [],
   "source": [
    "data_spy = load_data('../data/raw/SPY_data.csv')"
   ]
  },
  {
   "cell_type": "code",
   "execution_count": 68,
   "metadata": {},
   "outputs": [],
   "source": [
    "data_bnd = load_data('../data/raw/BND_data.csv')"
   ]
  },
  {
   "cell_type": "markdown",
   "metadata": {},
   "source": [
    "### Clean Data"
   ]
  },
  {
   "cell_type": "code",
   "execution_count": 69,
   "metadata": {},
   "outputs": [],
   "source": [
    "import pandas as pd \n",
    "data_tsla = pd.DataFrame()  \n",
    "data_spy = pd.DataFrame()\n",
    "data_bnd = pd.DataFrame()\n",
    "\n",
    "datasets = {\n",
    "    \"TSLA\": data_tsla,\n",
    "    \"SPY\": data_spy,\n",
    "    \"BND\": data_bnd\n",
    "}"
   ]
  },
  {
   "cell_type": "code",
   "execution_count": null,
   "metadata": {},
   "outputs": [],
   "source": [
    "from data_cleaning import clean_data\n",
    "clean_data = clean_data(data_tsla)\n",
    "clean_data = clean_data(data_spy)\n",
    "clean_data = clean_data(data_bnd)\n"
   ]
  }
 ],
 "metadata": {
  "kernelspec": {
   "display_name": "myenv",
   "language": "python",
   "name": "python3"
  },
  "language_info": {
   "codemirror_mode": {
    "name": "ipython",
    "version": 3
   },
   "file_extension": ".py",
   "mimetype": "text/x-python",
   "name": "python",
   "nbconvert_exporter": "python",
   "pygments_lexer": "ipython3",
   "version": "3.11.2"
  }
 },
 "nbformat": 4,
 "nbformat_minor": 2
}
