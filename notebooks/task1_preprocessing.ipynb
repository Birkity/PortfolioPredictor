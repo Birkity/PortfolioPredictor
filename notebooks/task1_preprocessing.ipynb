{
 "cells": [
  {
   "cell_type": "markdown",
   "metadata": {},
   "source": [
    "### Load data"
   ]
  },
  {
   "cell_type": "code",
   "execution_count": 72,
   "metadata": {},
   "outputs": [
    {
     "name": "stderr",
     "output_type": "stream",
     "text": [
      "2024-11-15 20:59:02,847 - DEBUG - matplotlib data path: c:\\Users\\USER\\Documents\\OPLearning\\10_Academy\\Week_11\\myenv\\Lib\\site-packages\\matplotlib\\mpl-data\n",
      "2024-11-15 20:59:03,223 - DEBUG - CONFIGDIR=C:\\Users\\USER\\.matplotlib\n",
      "2024-11-15 20:59:07,669 - DEBUG - interactive is False\n",
      "2024-11-15 20:59:07,669 - DEBUG - platform is win32\n",
      "2024-11-15 20:59:09,106 - DEBUG - CACHEDIR=C:\\Users\\USER\\.matplotlib\n",
      "2024-11-15 20:59:09,183 - DEBUG - Using fontManager instance from C:\\Users\\USER\\.matplotlib\\fontlist-v390.json\n"
     ]
    }
   ],
   "source": [
    "import sys\n",
    "import os\n",
    "import logging\n",
    "sys.path.append(os.path.abspath('../scripts'))\n",
    "\n",
    "from logging_config import setup_logger\n",
    "from data_loader import load_data\n",
    "from data_cleaning import clean_multiple_datasets\n",
    "from eda import perform_eda\n",
    "from visualization import plot_column"
   ]
  },
  {
   "cell_type": "code",
   "execution_count": 73,
   "metadata": {},
   "outputs": [
    {
     "name": "stderr",
     "output_type": "stream",
     "text": [
      "2024-11-15 20:59:50,784 - INFO - Logger initialized. Log file: logs\\task1_pipeline.log\n"
     ]
    }
   ],
   "source": [
    "setup_logger(log_file=\"task1_pipeline.log\", log_level=logging.DEBUG)"
   ]
  },
  {
   "cell_type": "code",
   "execution_count": 74,
   "metadata": {},
   "outputs": [
    {
     "name": "stderr",
     "output_type": "stream",
     "text": [
      "2024-11-15 21:00:22,630 - INFO - Loading datasets.\n"
     ]
    }
   ],
   "source": [
    "logging.info(\"Loading datasets.\")\n",
    "data_tsla = load_data('../data/raw/TSLA_data.csv')\n",
    "data_spy = load_data('../data/raw/SPY_data.csv')\n",
    "data_bnd = load_data('../data/raw/BND_data.csv')"
   ]
  },
  {
   "cell_type": "code",
   "execution_count": 75,
   "metadata": {},
   "outputs": [],
   "source": [
    "datasets = {\"TSLA\": data_tsla, \"SPY\": data_spy, \"BND\": data_bnd}"
   ]
  },
  {
   "cell_type": "markdown",
   "metadata": {},
   "source": [
    "### Clean Data"
   ]
  },
  {
   "cell_type": "code",
   "execution_count": 76,
   "metadata": {},
   "outputs": [
    {
     "name": "stderr",
     "output_type": "stream",
     "text": [
      "2024-11-15 21:01:13,084 - INFO - Cleaning datasets.\n",
      "2024-11-15 21:01:13,087 - INFO - Cleaning dataset: TSLA\n",
      "2024-11-15 21:01:13,087 - INFO - Starting data cleaning.\n",
      "2024-11-15 21:01:13,090 - INFO - Initial data shape: (2014, 6)\n",
      "2024-11-15 21:01:17,556 - INFO - Ensured numeric type for column: Open\n",
      "2024-11-15 21:01:17,556 - INFO - Ensured numeric type for column: High\n",
      "2024-11-15 21:01:17,569 - INFO - Ensured numeric type for column: Low\n",
      "2024-11-15 21:01:17,569 - INFO - Ensured numeric type for column: Close\n",
      "2024-11-15 21:01:17,569 - INFO - Ensured numeric type for column: Adj Close\n",
      "2024-11-15 21:01:17,569 - INFO - Ensured numeric type for column: Volume\n",
      "2024-11-15 21:01:17,584 - INFO - Final data shape: (2014, 6)\n",
      "2024-11-15 21:01:17,584 - INFO - Data cleaning completed.\n",
      "2024-11-15 21:01:17,584 - INFO - Cleaning dataset: SPY\n",
      "2024-11-15 21:01:17,584 - INFO - Starting data cleaning.\n",
      "2024-11-15 21:01:17,584 - INFO - Initial data shape: (2014, 6)\n",
      "2024-11-15 21:01:17,592 - INFO - Ensured numeric type for column: Open\n",
      "2024-11-15 21:01:17,592 - INFO - Ensured numeric type for column: High\n",
      "2024-11-15 21:01:17,600 - INFO - Ensured numeric type for column: Low\n",
      "2024-11-15 21:01:17,600 - INFO - Ensured numeric type for column: Close\n",
      "2024-11-15 21:01:17,600 - INFO - Ensured numeric type for column: Adj Close\n",
      "2024-11-15 21:01:17,600 - INFO - Ensured numeric type for column: Volume\n",
      "2024-11-15 21:01:17,600 - INFO - Final data shape: (2014, 6)\n",
      "2024-11-15 21:01:17,600 - INFO - Data cleaning completed.\n",
      "2024-11-15 21:01:17,600 - INFO - Cleaning dataset: BND\n",
      "2024-11-15 21:01:17,608 - INFO - Starting data cleaning.\n",
      "2024-11-15 21:01:17,686 - INFO - Initial data shape: (2014, 6)\n",
      "2024-11-15 21:01:17,703 - INFO - Ensured numeric type for column: Open\n",
      "2024-11-15 21:01:17,802 - INFO - Ensured numeric type for column: High\n",
      "2024-11-15 21:01:17,802 - INFO - Ensured numeric type for column: Low\n",
      "2024-11-15 21:01:17,802 - INFO - Ensured numeric type for column: Close\n",
      "2024-11-15 21:01:17,810 - INFO - Ensured numeric type for column: Adj Close\n",
      "2024-11-15 21:01:17,810 - INFO - Ensured numeric type for column: Volume\n",
      "2024-11-15 21:01:17,819 - INFO - Final data shape: (2014, 6)\n",
      "2024-11-15 21:01:17,819 - INFO - Data cleaning completed.\n"
     ]
    }
   ],
   "source": [
    "logging.info(\"Cleaning datasets.\")\n",
    "cleaned_datasets = clean_multiple_datasets(datasets)"
   ]
  },
  {
   "cell_type": "code",
   "execution_count": null,
   "metadata": {},
   "outputs": [],
   "source": []
  }
 ],
 "metadata": {
  "kernelspec": {
   "display_name": "myenv",
   "language": "python",
   "name": "python3"
  },
  "language_info": {
   "codemirror_mode": {
    "name": "ipython",
    "version": 3
   },
   "file_extension": ".py",
   "mimetype": "text/x-python",
   "name": "python",
   "nbconvert_exporter": "python",
   "pygments_lexer": "ipython3",
   "version": "3.11.2"
  }
 },
 "nbformat": 4,
 "nbformat_minor": 2
}
